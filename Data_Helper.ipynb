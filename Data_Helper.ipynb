{
  "nbformat": 4,
  "nbformat_minor": 0,
  "metadata": {
    "colab": {
      "name": "Data Helper.ipynb",
      "version": "0.3.2",
      "provenance": [],
      "collapsed_sections": [],
      "toc_visible": true,
      "include_colab_link": true
    },
    "kernelspec": {
      "name": "python3",
      "display_name": "Python 3"
    }
  },
  "cells": [
    {
      "cell_type": "markdown",
      "metadata": {
        "id": "view-in-github",
        "colab_type": "text"
      },
      "source": [
        "[View in Colaboratory](https://colab.research.google.com/github/rvoak/BKT/blob/master/Data_Helper.ipynb)"
      ]
    },
    {
      "metadata": {
        "id": "Sp3BeKuhIugs",
        "colab_type": "code",
        "colab": {}
      },
      "cell_type": "code",
      "source": [
        "# RUN THIS IF RUNTIME IS DISCONNECTED\n",
        "\n",
        "!apt-get install libboost-all-dev\n",
        "!git clone https://github.com/CAHLR/pyBKT.git\n",
        "%cd /content/pyBKT\n",
        "!wget --no-check-certificate http://bitbucket.org/eigen/eigen/get/3.1.3.tar.gz\n",
        "!tar -xzvf 3.1.3.tar.gz\n",
        "!mv eigen-eigen-2249f9c22fe8 ./Eigen\n",
        "!rm 3.1.3.tar.gz\n",
        "!sed -i 's/num_resources = 1/num_resources = 2/g' test/hand_specified_model3.py\n",
        "!make"
      ],
      "execution_count": 0,
      "outputs": []
    },
    {
      "metadata": {
        "id": "6hpudfhc_8ip",
        "colab_type": "code",
        "colab": {}
      },
      "cell_type": "code",
      "source": [
        "import pandas as pd\n",
        "import numpy as np\n",
        "import io\n",
        "import requests\n",
        "import os\n",
        "\n",
        "\n",
        "  \n",
        "def DataHelper(skill_name):\n",
        "  \n",
        "  if not (os.path.isfile('data/skill_builder_data.csv')):\n",
        "    !mkdir data\n",
        "    %cd data\n",
        "    !wget http://users.wpi.edu/~yutaowang/data/skill_builder_data.csv\n",
        "    %cd ..\n",
        "  \n",
        "  df = pd.read_csv('data/skill_builder_data.csv',encoding='ISO-8859-1')\n",
        "  # filter by the skill you want, make sure the question is an 'original'\n",
        "  skill = df[(df['skill_name']==skill_name) & (df['original'] == 1)]\n",
        "  # sort by the order in which the problems were answered\n",
        "  df.sort_values('order_id', inplace=True)\n",
        "\n",
        "  # example of how to get the unique users\n",
        "  # uilist=skill['user_id'].unique()\n",
        "\n",
        "  # convert from 0=incorrect,1=correct to 1=incorrect,2=correct\n",
        "  skill.loc[:,'correct']+=1\n",
        "  \n",
        "  # filter out garbage\n",
        "  df3=skill[skill['correct']!=3]\n",
        "  data=df3['correct'].values\n",
        "  \n",
        "  # find out how many problems per user, form the start/length arrays\n",
        "  steps=df3.groupby('user_id')['problem_id'].count().values\n",
        "  lengths=np.copy(steps)\n",
        "  \n",
        "  steps[0]=0\n",
        "  steps[1]=1\n",
        "  for i in range(2,steps.size):\n",
        "    steps[i]=steps[i-1]+lengths[i-2]\n",
        "  \n",
        "  \n",
        "  starts=np.delete(steps,0)\n",
        "\n",
        "  resources=[1]*data.size\n",
        "  resource=np.asarray(resources)\n",
        "  \n",
        "  stateseqs=np.copy(resource)\n",
        "  lengths=np.resize(lengths,lengths.size-1)\n",
        "  Data={}\n",
        "  Data[\"stateseqs\"]=np.asarray([stateseqs],dtype='int32')\n",
        "  Data[\"data\"]=np.asarray([data],dtype='int32')\n",
        "  Data[\"starts\"]=np.asarray(starts)\n",
        "  Data[\"lengths\"]=np.asarray(lengths)\n",
        "  Data[\"resources\"]=resource\n",
        "  \n",
        " \n",
        "  return (Data)\n",
        " \n"
      ],
      "execution_count": 0,
      "outputs": []
    },
    {
      "metadata": {
        "id": "zqoOqkAPDhQw",
        "colab_type": "code",
        "colab": {
          "base_uri": "https://localhost:8080/",
          "height": 377
        },
        "outputId": "6769b82f-5d74-41ee-fe61-ace88bc43b3f"
      },
      "cell_type": "code",
      "source": [
        "import sys\n",
        "sys.path.append('../')\n",
        "import numpy as np\n",
        "from pyBKT.generate import synthetic_data\n",
        "from pyBKT.fit import EM_fit\n",
        "from copy import deepcopy\n",
        "import pandas as pd\n",
        "\n",
        "df = pd.read_csv('skill_builder_data.csv',encoding='ISO-8859-1')\n",
        "#parameters\n",
        "num_subparts = 1\n",
        "num_resources = 2\n",
        "num_fit_initializations = 10\n",
        "observation_sequence_lengths = np.full(500, 100, dtype=np.int)\n",
        "\n",
        "#generate synthetic model and data.\n",
        "#model is really easy.\n",
        "truemodel = {}\n",
        "\n",
        "truemodel[\"As\"] =  np.zeros((2, 2, num_resources), dtype=np.float_)\n",
        "for i in range(num_resources):\n",
        "    truemodel[\"As\"][i, :, :] = np.transpose([[0.7, 0.3], [0, 1]])\n",
        "truemodel[\"learns\"] = truemodel[\"As\"][:, 1, 0]\n",
        "truemodel[\"forgets\"] = truemodel[\"As\"][:, 0, 1]\n",
        "\n",
        "truemodel[\"pi_0\"] = np.array([[0.9], [0.1]])\n",
        "truemodel[\"prior\"] = truemodel[\"pi_0\"][1][0]\n",
        "\n",
        "truemodel[\"guesses\"] = np.full(num_subparts, 0.1, dtype=np.float_)\n",
        "truemodel[\"slips\"] = np.full(num_subparts, 0.03, dtype=np.float_)\n",
        "\n",
        "#data!\n",
        "print(\"generating data...\")\n",
        "skill='Pythagorean Theorem'\n",
        "data=DataHelper(skill)\n",
        "print('fitting! each dot is a new EM initialization')\n",
        "best_likelihood = float(\"-inf\")\n",
        "fitmodel = deepcopy(truemodel) # NOTE: include this line to initialize at the truth\n",
        "(fitmodel, log_likelihoods) = EM_fit.EM_fit(fitmodel, data)\n",
        "if(log_likelihoods[-1] > best_likelihood):\n",
        "  best_likelihood = log_likelihoods[-1]\n",
        "  best_model = fitmodel\n",
        "\n",
        "print('')\n",
        "print('\\ttruth\\tlearned')\n",
        "for r in range(num_resources):\n",
        "  print('learn%d\\t%.4f\\t%.4f' % (r+1, truemodel['As'][r, 1, 0].squeeze(), best_model['As'][r, 1, 0].squeeze()))\n",
        "for r in range(num_resources):\n",
        "  print('forget%d\\t%.4f\\t%.4f' % (r+1, truemodel['As'][r, 0, 1].squeeze(), best_model['As'][r, 0, 1].squeeze()))\n",
        "\n",
        "for s in range(num_subparts):\n",
        "  print('guess%d\\t%.4f\\t%.4f' % (s+1, truemodel['guesses'][s], best_model['guesses'][s]))\n",
        "for s in range(num_subparts):\n",
        "  print('slip%d\\t%.4f\\t%.4f' % (s+1, truemodel['slips'][s], best_model['slips'][s]))"
      ],
      "execution_count": 26,
      "outputs": [
        {
          "output_type": "stream",
          "text": [
            "/usr/local/lib/python3.6/dist-packages/IPython/core/interactiveshell.py:2718: DtypeWarning: Columns (17) have mixed types. Specify dtype option on import or set low_memory=False.\n",
            "  interactivity=interactivity, compiler=compiler, result=result)\n"
          ],
          "name": "stderr"
        },
        {
          "output_type": "stream",
          "text": [
            "generating data...\n"
          ],
          "name": "stdout"
        },
        {
          "output_type": "stream",
          "text": [
            "/usr/local/lib/python3.6/dist-packages/IPython/core/interactiveshell.py:2822: DtypeWarning: Columns (17) have mixed types. Specify dtype option on import or set low_memory=False.\n",
            "  if self.run_code(code, result):\n",
            "/usr/local/lib/python3.6/dist-packages/pandas/core/indexing.py:537: SettingWithCopyWarning: \n",
            "A value is trying to be set on a copy of a slice from a DataFrame.\n",
            "Try using .loc[row_indexer,col_indexer] = value instead\n",
            "\n",
            "See the caveats in the documentation: http://pandas.pydata.org/pandas-docs/stable/indexing.html#indexing-view-versus-copy\n",
            "  self.obj[item] = s\n"
          ],
          "name": "stderr"
        },
        {
          "output_type": "stream",
          "text": [
            "fitting! each dot is a new EM initialization\n",
            "\n",
            "\ttruth\tlearned\n",
            "learn1\t0.3000\t0.0227\n",
            "learn2\t0.3000\t0.5000\n",
            "forget1\t0.0000\t0.0000\n",
            "forget2\t0.0000\t0.5000\n",
            "guess1\t0.1000\t0.4112\n",
            "slip1\t0.0300\t0.2900\n"
          ],
          "name": "stdout"
        }
      ]
    },
    {
      "metadata": {
        "id": "m9B3AJsB7ltF",
        "colab_type": "code",
        "colab": {}
      },
      "cell_type": "code",
      "source": [
        ""
      ],
      "execution_count": 0,
      "outputs": []
    },
    {
      "metadata": {
        "id": "zcZulrWehTN9",
        "colab_type": "code",
        "colab": {}
      },
      "cell_type": "code",
      "source": [
        ""
      ],
      "execution_count": 0,
      "outputs": []
    }
  ]
}